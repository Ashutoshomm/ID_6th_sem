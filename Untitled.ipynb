{
 "cells": [
  {
   "cell_type": "code",
   "execution_count": 10,
   "id": "c3a2f55b",
   "metadata": {},
   "outputs": [],
   "source": [
    "import pandas as pd\n",
    "import numpy as np\n",
    "import matplotlib.pyplot as plt\n"
   ]
  },
  {
   "cell_type": "code",
   "execution_count": 11,
   "id": "78bde12e",
   "metadata": {},
   "outputs": [],
   "source": [
    "df=pd.read_csv('feedback.csv')"
   ]
  },
  {
   "cell_type": "code",
   "execution_count": 13,
   "id": "192b5217",
   "metadata": {},
   "outputs": [
    {
     "data": {
      "text/html": [
       "<div>\n",
       "<style scoped>\n",
       "    .dataframe tbody tr th:only-of-type {\n",
       "        vertical-align: middle;\n",
       "    }\n",
       "\n",
       "    .dataframe tbody tr th {\n",
       "        vertical-align: top;\n",
       "    }\n",
       "\n",
       "    .dataframe thead th {\n",
       "        text-align: right;\n",
       "    }\n",
       "</style>\n",
       "<table border=\"1\" class=\"dataframe\">\n",
       "  <thead>\n",
       "    <tr style=\"text-align: right;\">\n",
       "      <th></th>\n",
       "      <th>Age</th>\n",
       "      <th>Gen</th>\n",
       "      <th>credit</th>\n",
       "      <th>Beauty</th>\n",
       "      <th>state</th>\n",
       "      <th>Rating</th>\n",
       "      <th>Name</th>\n",
       "    </tr>\n",
       "  </thead>\n",
       "  <tbody>\n",
       "    <tr>\n",
       "      <th>0</th>\n",
       "      <td>30</td>\n",
       "      <td>Male</td>\n",
       "      <td>2</td>\n",
       "      <td>4</td>\n",
       "      <td>Odisha</td>\n",
       "      <td>5</td>\n",
       "      <td>XXXX</td>\n",
       "    </tr>\n",
       "    <tr>\n",
       "      <th>1</th>\n",
       "      <td>54</td>\n",
       "      <td>Male</td>\n",
       "      <td>2</td>\n",
       "      <td>3</td>\n",
       "      <td>West bengal</td>\n",
       "      <td>4</td>\n",
       "      <td>XXXY</td>\n",
       "    </tr>\n",
       "    <tr>\n",
       "      <th>2</th>\n",
       "      <td>50</td>\n",
       "      <td>Male</td>\n",
       "      <td>2</td>\n",
       "      <td>3</td>\n",
       "      <td>Odisha</td>\n",
       "      <td>3</td>\n",
       "      <td>XXYY</td>\n",
       "    </tr>\n",
       "    <tr>\n",
       "      <th>3</th>\n",
       "      <td>23</td>\n",
       "      <td>Female</td>\n",
       "      <td>1</td>\n",
       "      <td>5</td>\n",
       "      <td>Odisha</td>\n",
       "      <td>2</td>\n",
       "      <td>XYYY</td>\n",
       "    </tr>\n",
       "    <tr>\n",
       "      <th>4</th>\n",
       "      <td>44</td>\n",
       "      <td>Male</td>\n",
       "      <td>1</td>\n",
       "      <td>5</td>\n",
       "      <td>Gujurat</td>\n",
       "      <td>4</td>\n",
       "      <td>YYYY</td>\n",
       "    </tr>\n",
       "  </tbody>\n",
       "</table>\n",
       "</div>"
      ],
      "text/plain": [
       "   Age     Gen  credit  Beauty        state  Rating  Name\n",
       "0   30    Male       2       4       Odisha       5  XXXX\n",
       "1   54    Male       2       3  West bengal       4  XXXY\n",
       "2   50    Male       2       3      Odisha        3  XXYY\n",
       "3   23  Female       1       5       Odisha       2  XYYY\n",
       "4   44    Male       1       5      Gujurat       4  YYYY"
      ]
     },
     "execution_count": 13,
     "metadata": {},
     "output_type": "execute_result"
    }
   ],
   "source": [
    "df.head()"
   ]
  },
  {
   "cell_type": "code",
   "execution_count": 14,
   "id": "e9d148ee",
   "metadata": {},
   "outputs": [
    {
     "data": {
      "text/html": [
       "<div>\n",
       "<style scoped>\n",
       "    .dataframe tbody tr th:only-of-type {\n",
       "        vertical-align: middle;\n",
       "    }\n",
       "\n",
       "    .dataframe tbody tr th {\n",
       "        vertical-align: top;\n",
       "    }\n",
       "\n",
       "    .dataframe thead th {\n",
       "        text-align: right;\n",
       "    }\n",
       "</style>\n",
       "<table border=\"1\" class=\"dataframe\">\n",
       "  <thead>\n",
       "    <tr style=\"text-align: right;\">\n",
       "      <th></th>\n",
       "      <th>Age</th>\n",
       "      <th>Gen</th>\n",
       "      <th>credit</th>\n",
       "      <th>Beauty</th>\n",
       "      <th>state</th>\n",
       "      <th>Rating</th>\n",
       "      <th>Name</th>\n",
       "    </tr>\n",
       "  </thead>\n",
       "  <tbody>\n",
       "    <tr>\n",
       "      <th>58</th>\n",
       "      <td>55</td>\n",
       "      <td>Male</td>\n",
       "      <td>2</td>\n",
       "      <td>5</td>\n",
       "      <td>Odisha</td>\n",
       "      <td>5</td>\n",
       "      <td>YXXX</td>\n",
       "    </tr>\n",
       "    <tr>\n",
       "      <th>59</th>\n",
       "      <td>32</td>\n",
       "      <td>Female</td>\n",
       "      <td>2</td>\n",
       "      <td>5</td>\n",
       "      <td>Odisha</td>\n",
       "      <td>5</td>\n",
       "      <td>XXYY</td>\n",
       "    </tr>\n",
       "    <tr>\n",
       "      <th>60</th>\n",
       "      <td>30</td>\n",
       "      <td>Male</td>\n",
       "      <td>2</td>\n",
       "      <td>5</td>\n",
       "      <td>Bihar</td>\n",
       "      <td>5</td>\n",
       "      <td>XYYX</td>\n",
       "    </tr>\n",
       "    <tr>\n",
       "      <th>61</th>\n",
       "      <td>45</td>\n",
       "      <td>Male</td>\n",
       "      <td>2</td>\n",
       "      <td>5</td>\n",
       "      <td>Odisha</td>\n",
       "      <td>5</td>\n",
       "      <td>YYXX</td>\n",
       "    </tr>\n",
       "    <tr>\n",
       "      <th>62</th>\n",
       "      <td>35</td>\n",
       "      <td>Female</td>\n",
       "      <td>2</td>\n",
       "      <td>5</td>\n",
       "      <td>Odisha</td>\n",
       "      <td>5</td>\n",
       "      <td>XYXY</td>\n",
       "    </tr>\n",
       "  </tbody>\n",
       "</table>\n",
       "</div>"
      ],
      "text/plain": [
       "    Age     Gen  credit  Beauty    state  Rating  Name\n",
       "58   55    Male       2       5  Odisha        5  YXXX\n",
       "59   32  Female       2       5  Odisha        5  XXYY\n",
       "60   30    Male       2       5    Bihar       5  XYYX\n",
       "61   45    Male       2       5   Odisha       5  YYXX\n",
       "62   35  Female       2       5   Odisha       5  XYXY"
      ]
     },
     "execution_count": 14,
     "metadata": {},
     "output_type": "execute_result"
    }
   ],
   "source": [
    "df.tail()"
   ]
  },
  {
   "cell_type": "code",
   "execution_count": 15,
   "id": "22aa6c57",
   "metadata": {},
   "outputs": [
    {
     "data": {
      "text/plain": [
       "Age                55\n",
       "Gen              Male\n",
       "credit              2\n",
       "Beauty              5\n",
       "state     West bengal\n",
       "Rating              5\n",
       "Name             YYYY\n",
       "dtype: object"
      ]
     },
     "execution_count": 15,
     "metadata": {},
     "output_type": "execute_result"
    }
   ],
   "source": [
    "df.max()"
   ]
  },
  {
   "cell_type": "code",
   "execution_count": 16,
   "id": "addbbb4d",
   "metadata": {},
   "outputs": [
    {
     "name": "stdout",
     "output_type": "stream",
     "text": [
      "<class 'pandas.core.frame.DataFrame'>\n",
      "RangeIndex: 63 entries, 0 to 62\n",
      "Data columns (total 7 columns):\n",
      " #   Column  Non-Null Count  Dtype \n",
      "---  ------  --------------  ----- \n",
      " 0   Age     63 non-null     int64 \n",
      " 1   Gen     63 non-null     object\n",
      " 2   credit  63 non-null     int64 \n",
      " 3   Beauty  63 non-null     int64 \n",
      " 4   state   63 non-null     object\n",
      " 5   Rating  63 non-null     int64 \n",
      " 6   Name    63 non-null     object\n",
      "dtypes: int64(4), object(3)\n",
      "memory usage: 3.6+ KB\n"
     ]
    }
   ],
   "source": [
    "df.info()\n"
   ]
  },
  {
   "cell_type": "code",
   "execution_count": 17,
   "id": "ad43de81",
   "metadata": {},
   "outputs": [
    {
     "data": {
      "text/html": [
       "<div>\n",
       "<style scoped>\n",
       "    .dataframe tbody tr th:only-of-type {\n",
       "        vertical-align: middle;\n",
       "    }\n",
       "\n",
       "    .dataframe tbody tr th {\n",
       "        vertical-align: top;\n",
       "    }\n",
       "\n",
       "    .dataframe thead th {\n",
       "        text-align: right;\n",
       "    }\n",
       "</style>\n",
       "<table border=\"1\" class=\"dataframe\">\n",
       "  <thead>\n",
       "    <tr style=\"text-align: right;\">\n",
       "      <th></th>\n",
       "      <th>Age</th>\n",
       "      <th>credit</th>\n",
       "      <th>Beauty</th>\n",
       "      <th>Rating</th>\n",
       "    </tr>\n",
       "  </thead>\n",
       "  <tbody>\n",
       "    <tr>\n",
       "      <th>count</th>\n",
       "      <td>63.000000</td>\n",
       "      <td>63.000000</td>\n",
       "      <td>63.000000</td>\n",
       "      <td>63.000000</td>\n",
       "    </tr>\n",
       "    <tr>\n",
       "      <th>mean</th>\n",
       "      <td>35.333333</td>\n",
       "      <td>1.793651</td>\n",
       "      <td>3.952381</td>\n",
       "      <td>4.222222</td>\n",
       "    </tr>\n",
       "    <tr>\n",
       "      <th>std</th>\n",
       "      <td>8.094203</td>\n",
       "      <td>0.407935</td>\n",
       "      <td>0.869345</td>\n",
       "      <td>1.007143</td>\n",
       "    </tr>\n",
       "    <tr>\n",
       "      <th>min</th>\n",
       "      <td>18.000000</td>\n",
       "      <td>1.000000</td>\n",
       "      <td>2.000000</td>\n",
       "      <td>1.000000</td>\n",
       "    </tr>\n",
       "    <tr>\n",
       "      <th>25%</th>\n",
       "      <td>30.000000</td>\n",
       "      <td>2.000000</td>\n",
       "      <td>3.000000</td>\n",
       "      <td>3.000000</td>\n",
       "    </tr>\n",
       "    <tr>\n",
       "      <th>50%</th>\n",
       "      <td>35.000000</td>\n",
       "      <td>2.000000</td>\n",
       "      <td>4.000000</td>\n",
       "      <td>5.000000</td>\n",
       "    </tr>\n",
       "    <tr>\n",
       "      <th>75%</th>\n",
       "      <td>40.000000</td>\n",
       "      <td>2.000000</td>\n",
       "      <td>5.000000</td>\n",
       "      <td>5.000000</td>\n",
       "    </tr>\n",
       "    <tr>\n",
       "      <th>max</th>\n",
       "      <td>55.000000</td>\n",
       "      <td>2.000000</td>\n",
       "      <td>5.000000</td>\n",
       "      <td>5.000000</td>\n",
       "    </tr>\n",
       "  </tbody>\n",
       "</table>\n",
       "</div>"
      ],
      "text/plain": [
       "             Age     credit     Beauty     Rating\n",
       "count  63.000000  63.000000  63.000000  63.000000\n",
       "mean   35.333333   1.793651   3.952381   4.222222\n",
       "std     8.094203   0.407935   0.869345   1.007143\n",
       "min    18.000000   1.000000   2.000000   1.000000\n",
       "25%    30.000000   2.000000   3.000000   3.000000\n",
       "50%    35.000000   2.000000   4.000000   5.000000\n",
       "75%    40.000000   2.000000   5.000000   5.000000\n",
       "max    55.000000   2.000000   5.000000   5.000000"
      ]
     },
     "execution_count": 17,
     "metadata": {},
     "output_type": "execute_result"
    }
   ],
   "source": [
    "df.describe()"
   ]
  },
  {
   "cell_type": "code",
   "execution_count": 75,
   "id": "7d0b43df",
   "metadata": {},
   "outputs": [
    {
     "name": "stderr",
     "output_type": "stream",
     "text": [
      "C:\\Users\\ganes\\AppData\\Local\\Temp/ipykernel_1976/1467805007.py:1: FutureWarning: Dropping of nuisance columns in DataFrame reductions (with 'numeric_only=None') is deprecated; in a future version this will raise TypeError.  Select only valid columns before calling the reduction.\n",
      "  x=df.mean()\n"
     ]
    },
    {
     "data": {
      "text/plain": [
       "Age       35.333333\n",
       "credit     1.793651\n",
       "Beauty     3.952381\n",
       "Rating     4.222222\n",
       "dtype: float64"
      ]
     },
     "execution_count": 75,
     "metadata": {},
     "output_type": "execute_result"
    }
   ],
   "source": [
    "x=df.mean()\n",
    "x"
   ]
  },
  {
   "cell_type": "code",
   "execution_count": 77,
   "id": "3697cca1",
   "metadata": {},
   "outputs": [
    {
     "name": "stderr",
     "output_type": "stream",
     "text": [
      "C:\\Users\\ganes\\AppData\\Local\\Temp/ipykernel_1976/3676781835.py:1: FutureWarning: Dropping of nuisance columns in DataFrame reductions (with 'numeric_only=None') is deprecated; in a future version this will raise TypeError.  Select only valid columns before calling the reduction.\n",
      "  y=df.median()\n"
     ]
    },
    {
     "data": {
      "text/plain": [
       "Age       35.0\n",
       "credit     2.0\n",
       "Beauty     4.0\n",
       "Rating     5.0\n",
       "dtype: float64"
      ]
     },
     "execution_count": 77,
     "metadata": {},
     "output_type": "execute_result"
    }
   ],
   "source": [
    "y=df.median()\n",
    "y"
   ]
  },
  {
   "cell_type": "code",
   "execution_count": 71,
   "id": "6dbd44f7",
   "metadata": {},
   "outputs": [
    {
     "name": "stdout",
     "output_type": "stream",
     "text": [
      "30    9\n",
      "40    8\n",
      "35    7\n",
      "32    5\n",
      "45    5\n",
      "28    4\n",
      "27    3\n",
      "38    3\n",
      "36    3\n",
      "33    3\n",
      "50    2\n",
      "55    2\n",
      "54    1\n",
      "22    1\n",
      "18    1\n",
      "44    1\n",
      "25    1\n",
      "23    1\n",
      "42    1\n",
      "34    1\n",
      "20    1\n",
      "Name: Age, dtype: int64\n",
      "Male      43\n",
      "Female    20\n",
      "Name: Gen, dtype: int64\n"
     ]
    }
   ],
   "source": [
    "a=df['Age'].value_counts()\n",
    "b=df['Gen'].value_counts()\n",
    "print(a)\n",
    "print(b)\n",
    "\n"
   ]
  },
  {
   "cell_type": "code",
   "execution_count": 32,
   "id": "d3e03fd6",
   "metadata": {},
   "outputs": [
    {
     "data": {
      "text/plain": [
       "55"
      ]
     },
     "execution_count": 32,
     "metadata": {},
     "output_type": "execute_result"
    }
   ],
   "source": [
    "df['Age'].max()"
   ]
  },
  {
   "cell_type": "code",
   "execution_count": 21,
   "id": "1a0c31a3",
   "metadata": {},
   "outputs": [
    {
     "data": {
      "image/png": "[encoded data removed]",
      "text/plain": [
       "<Figure size 432x288 with 1 Axes>"
      ]
     },
     "metadata": {
      "needs_background": "light"
     },
     "output_type": "display_data"
    },
    {
     "data": {
      "image/png": "[encoded data removed]",
      "text/plain": [
       "<Figure size 432x288 with 1 Axes>"
      ]
     },
     "metadata": {
      "needs_background": "light"
     },
     "output_type": "display_data"
    }
   ],
   "source": [
    "plt.scatter(df[\"Age\"],df[\"Rating\"])\n",
    "plt.xlabel(\"Age\")\n",
    "plt.ylabel(\"Rating\")\n",
    "plt.title(\"age vs beauty of teacher\")\n",
    "plt.grid()\n",
    "plt.show()\n",
    "plt.scatter(df[\"Age\"],df[\"Rating\"])\n",
    "plt.xlabel(\"Age\")\n",
    "plt.ylabel(\"Rating\")\n",
    "plt.title(\"age vs beauty of teacher\")\n",
    "plt.show()"
   ]
  },
  {
   "cell_type": "code",
   "execution_count": 50,
   "id": "fabebfc6",
   "metadata": {},
   "outputs": [],
   "source": [
    "import seaborn as sns\n",
    "gd=df.groupby('Gen',as_index=False)['Age'].sum()\n",
    "\n"
   ]
  },
  {
   "cell_type": "code",
   "execution_count": 39,
   "id": "5d737ba7",
   "metadata": {},
   "outputs": [
    {
     "data": {
      "text/html": [
       "<div>\n",
       "<style scoped>\n",
       "    .dataframe tbody tr th:only-of-type {\n",
       "        vertical-align: middle;\n",
       "    }\n",
       "\n",
       "    .dataframe tbody tr th {\n",
       "        vertical-align: top;\n",
       "    }\n",
       "\n",
       "    .dataframe thead th {\n",
       "        text-align: right;\n",
       "    }\n",
       "</style>\n",
       "<table border=\"1\" class=\"dataframe\">\n",
       "  <thead>\n",
       "    <tr style=\"text-align: right;\">\n",
       "      <th></th>\n",
       "      <th>Gen</th>\n",
       "      <th>Age</th>\n",
       "    </tr>\n",
       "  </thead>\n",
       "  <tbody>\n",
       "    <tr>\n",
       "      <th>0</th>\n",
       "      <td>Female</td>\n",
       "      <td>693</td>\n",
       "    </tr>\n",
       "    <tr>\n",
       "      <th>1</th>\n",
       "      <td>Male</td>\n",
       "      <td>1533</td>\n",
       "    </tr>\n",
       "  </tbody>\n",
       "</table>\n",
       "</div>"
      ],
      "text/plain": [
       "      Gen   Age\n",
       "0  Female   693\n",
       "1    Male  1533"
      ]
     },
     "execution_count": 39,
     "metadata": {},
     "output_type": "execute_result"
    }
   ],
   "source": [
    "gd"
   ]
  },
  {
   "cell_type": "code",
   "execution_count": 40,
   "id": "33b9d170",
   "metadata": {},
   "outputs": [
    {
     "data": {
      "image/png": "[encoded data removed]",
      "text/plain": [
       "<Figure size 432x288 with 1 Axes>"
      ]
     },
     "metadata": {
      "needs_background": "light"
     },
     "output_type": "display_data"
    }
   ],
   "source": [
    "ax=sns.barplot(x='Gen',y='Age',data=gd)"
   ]
  },
  {
   "cell_type": "code",
   "execution_count": 66,
   "id": "fc289abc",
   "metadata": {},
   "outputs": [
    {
     "data": {
      "text/html": [
       "<div>\n",
       "<style scoped>\n",
       "    .dataframe tbody tr th:only-of-type {\n",
       "        vertical-align: middle;\n",
       "    }\n",
       "\n",
       "    .dataframe tbody tr th {\n",
       "        vertical-align: top;\n",
       "    }\n",
       "\n",
       "    .dataframe thead th {\n",
       "        text-align: right;\n",
       "    }\n",
       "</style>\n",
       "<table border=\"1\" class=\"dataframe\">\n",
       "  <thead>\n",
       "    <tr style=\"text-align: right;\">\n",
       "      <th></th>\n",
       "      <th>Gen</th>\n",
       "      <th>Age</th>\n",
       "    </tr>\n",
       "  </thead>\n",
       "  <tbody>\n",
       "    <tr>\n",
       "      <th>0</th>\n",
       "      <td>Female</td>\n",
       "      <td>20</td>\n",
       "    </tr>\n",
       "    <tr>\n",
       "      <th>1</th>\n",
       "      <td>Male</td>\n",
       "      <td>43</td>\n",
       "    </tr>\n",
       "  </tbody>\n",
       "</table>\n",
       "</div>"
      ],
      "text/plain": [
       "      Gen  Age\n",
       "0  Female   20\n",
       "1    Male   43"
      ]
     },
     "execution_count": 66,
     "metadata": {},
     "output_type": "execute_result"
    }
   ],
   "source": [
    "gc=df.groupby('Gen',as_index=False)['Age'].count()\n",
    "gc"
   ]
  },
  {
   "cell_type": "code",
   "execution_count": 73,
   "id": "e5927470",
   "metadata": {},
   "outputs": [
    {
     "data": {
      "text/plain": [
       "<BarContainer object of 2 artists>"
      ]
     },
     "execution_count": 73,
     "metadata": {},
     "output_type": "execute_result"
    },
    {
     "data": {
      "image/png": "[encoded data removed]",
      "text/plain": [
       "<Figure size 432x288 with 1 Axes>"
      ]
     },
     "metadata": {
      "needs_background": "light"
     },
     "output_type": "display_data"
    }
   ],
   "source": [
    "plt.bar(gc[\"Gen\"],gc[\"Age\"],data=gc)\n",
    "##\n"
   ]
  },
  {
   "cell_type": "code",
   "execution_count": 58,
   "id": "44b08897",
   "metadata": {},
   "outputs": [
    {
     "data": {
      "text/html": [
       "<div>\n",
       "<style scoped>\n",
       "    .dataframe tbody tr th:only-of-type {\n",
       "        vertical-align: middle;\n",
       "    }\n",
       "\n",
       "    .dataframe tbody tr th {\n",
       "        vertical-align: top;\n",
       "    }\n",
       "\n",
       "    .dataframe thead th {\n",
       "        text-align: right;\n",
       "    }\n",
       "</style>\n",
       "<table border=\"1\" class=\"dataframe\">\n",
       "  <thead>\n",
       "    <tr style=\"text-align: right;\">\n",
       "      <th></th>\n",
       "      <th></th>\n",
       "      <th>credit</th>\n",
       "      <th>Beauty</th>\n",
       "      <th>state</th>\n",
       "      <th>Rating</th>\n",
       "      <th>Name</th>\n",
       "    </tr>\n",
       "    <tr>\n",
       "      <th>Age</th>\n",
       "      <th>Gen</th>\n",
       "      <th></th>\n",
       "      <th></th>\n",
       "      <th></th>\n",
       "      <th></th>\n",
       "      <th></th>\n",
       "    </tr>\n",
       "  </thead>\n",
       "  <tbody>\n",
       "    <tr>\n",
       "      <th>18</th>\n",
       "      <th>Male</th>\n",
       "      <td>1</td>\n",
       "      <td>4</td>\n",
       "      <td>Sikkim</td>\n",
       "      <td>1</td>\n",
       "      <td>XXXX</td>\n",
       "    </tr>\n",
       "    <tr>\n",
       "      <th>20</th>\n",
       "      <th>Male</th>\n",
       "      <td>2</td>\n",
       "      <td>4</td>\n",
       "      <td>Odisha</td>\n",
       "      <td>3</td>\n",
       "      <td>XXYX</td>\n",
       "    </tr>\n",
       "    <tr>\n",
       "      <th>22</th>\n",
       "      <th>Male</th>\n",
       "      <td>2</td>\n",
       "      <td>3</td>\n",
       "      <td>Odisha</td>\n",
       "      <td>5</td>\n",
       "      <td>XXYX</td>\n",
       "    </tr>\n",
       "    <tr>\n",
       "      <th>23</th>\n",
       "      <th>Female</th>\n",
       "      <td>1</td>\n",
       "      <td>5</td>\n",
       "      <td>Odisha</td>\n",
       "      <td>2</td>\n",
       "      <td>XYYY</td>\n",
       "    </tr>\n",
       "    <tr>\n",
       "      <th>25</th>\n",
       "      <th>Male</th>\n",
       "      <td>2</td>\n",
       "      <td>3</td>\n",
       "      <td>Odisha</td>\n",
       "      <td>3</td>\n",
       "      <td>XYXX</td>\n",
       "    </tr>\n",
       "    <tr>\n",
       "      <th rowspan=\"2\" valign=\"top\">27</th>\n",
       "      <th>Female</th>\n",
       "      <td>1</td>\n",
       "      <td>3</td>\n",
       "      <td>Odisha</td>\n",
       "      <td>4</td>\n",
       "      <td>XXYX</td>\n",
       "    </tr>\n",
       "    <tr>\n",
       "      <th>Male</th>\n",
       "      <td>2</td>\n",
       "      <td>4</td>\n",
       "      <td>Odisha</td>\n",
       "      <td>5</td>\n",
       "      <td>YXYX</td>\n",
       "    </tr>\n",
       "    <tr>\n",
       "      <th rowspan=\"2\" valign=\"top\">28</th>\n",
       "      <th>Female</th>\n",
       "      <td>2</td>\n",
       "      <td>4</td>\n",
       "      <td>Odisha</td>\n",
       "      <td>5</td>\n",
       "      <td>YXYX</td>\n",
       "    </tr>\n",
       "    <tr>\n",
       "      <th>Male</th>\n",
       "      <td>2</td>\n",
       "      <td>5</td>\n",
       "      <td>Odisha</td>\n",
       "      <td>5</td>\n",
       "      <td>YXXX</td>\n",
       "    </tr>\n",
       "    <tr>\n",
       "      <th rowspan=\"2\" valign=\"top\">30</th>\n",
       "      <th>Female</th>\n",
       "      <td>2</td>\n",
       "      <td>5</td>\n",
       "      <td>Odisha</td>\n",
       "      <td>5</td>\n",
       "      <td>XXYY</td>\n",
       "    </tr>\n",
       "    <tr>\n",
       "      <th>Male</th>\n",
       "      <td>2</td>\n",
       "      <td>4</td>\n",
       "      <td>Odisha</td>\n",
       "      <td>5</td>\n",
       "      <td>XXXX</td>\n",
       "    </tr>\n",
       "    <tr>\n",
       "      <th rowspan=\"2\" valign=\"top\">32</th>\n",
       "      <th>Female</th>\n",
       "      <td>2</td>\n",
       "      <td>4</td>\n",
       "      <td>Odisha</td>\n",
       "      <td>4</td>\n",
       "      <td>YYXX</td>\n",
       "    </tr>\n",
       "    <tr>\n",
       "      <th>Male</th>\n",
       "      <td>2</td>\n",
       "      <td>2</td>\n",
       "      <td>Bihar</td>\n",
       "      <td>3</td>\n",
       "      <td>XYXX</td>\n",
       "    </tr>\n",
       "    <tr>\n",
       "      <th>33</th>\n",
       "      <th>Male</th>\n",
       "      <td>2</td>\n",
       "      <td>3</td>\n",
       "      <td>Orissa</td>\n",
       "      <td>5</td>\n",
       "      <td>XXYY</td>\n",
       "    </tr>\n",
       "    <tr>\n",
       "      <th>34</th>\n",
       "      <th>Male</th>\n",
       "      <td>2</td>\n",
       "      <td>4</td>\n",
       "      <td>Odisha</td>\n",
       "      <td>3</td>\n",
       "      <td>XYYY</td>\n",
       "    </tr>\n",
       "    <tr>\n",
       "      <th rowspan=\"2\" valign=\"top\">35</th>\n",
       "      <th>Female</th>\n",
       "      <td>2</td>\n",
       "      <td>4</td>\n",
       "      <td>Odisha</td>\n",
       "      <td>5</td>\n",
       "      <td>XYYX</td>\n",
       "    </tr>\n",
       "    <tr>\n",
       "      <th>Male</th>\n",
       "      <td>2</td>\n",
       "      <td>5</td>\n",
       "      <td>Jharkhand</td>\n",
       "      <td>3</td>\n",
       "      <td>XYYX</td>\n",
       "    </tr>\n",
       "    <tr>\n",
       "      <th rowspan=\"2\" valign=\"top\">36</th>\n",
       "      <th>Female</th>\n",
       "      <td>2</td>\n",
       "      <td>5</td>\n",
       "      <td>Orissa</td>\n",
       "      <td>5</td>\n",
       "      <td>YYYY</td>\n",
       "    </tr>\n",
       "    <tr>\n",
       "      <th>Male</th>\n",
       "      <td>2</td>\n",
       "      <td>5</td>\n",
       "      <td>Odisha</td>\n",
       "      <td>4</td>\n",
       "      <td>YXYX</td>\n",
       "    </tr>\n",
       "    <tr>\n",
       "      <th rowspan=\"2\" valign=\"top\">38</th>\n",
       "      <th>Female</th>\n",
       "      <td>2</td>\n",
       "      <td>4</td>\n",
       "      <td>Odisha</td>\n",
       "      <td>5</td>\n",
       "      <td>XYYY</td>\n",
       "    </tr>\n",
       "    <tr>\n",
       "      <th>Male</th>\n",
       "      <td>1</td>\n",
       "      <td>2</td>\n",
       "      <td>Odisha</td>\n",
       "      <td>3</td>\n",
       "      <td>XYYX</td>\n",
       "    </tr>\n",
       "    <tr>\n",
       "      <th rowspan=\"2\" valign=\"top\">40</th>\n",
       "      <th>Female</th>\n",
       "      <td>2</td>\n",
       "      <td>4</td>\n",
       "      <td>Odisha</td>\n",
       "      <td>5</td>\n",
       "      <td>XXYY</td>\n",
       "    </tr>\n",
       "    <tr>\n",
       "      <th>Male</th>\n",
       "      <td>1</td>\n",
       "      <td>3</td>\n",
       "      <td>Odisha</td>\n",
       "      <td>5</td>\n",
       "      <td>XXXX</td>\n",
       "    </tr>\n",
       "    <tr>\n",
       "      <th>42</th>\n",
       "      <th>Male</th>\n",
       "      <td>1</td>\n",
       "      <td>3</td>\n",
       "      <td>Odisha</td>\n",
       "      <td>5</td>\n",
       "      <td>XYXX</td>\n",
       "    </tr>\n",
       "    <tr>\n",
       "      <th>44</th>\n",
       "      <th>Male</th>\n",
       "      <td>1</td>\n",
       "      <td>5</td>\n",
       "      <td>Gujurat</td>\n",
       "      <td>4</td>\n",
       "      <td>YYYY</td>\n",
       "    </tr>\n",
       "    <tr>\n",
       "      <th rowspan=\"2\" valign=\"top\">45</th>\n",
       "      <th>Female</th>\n",
       "      <td>2</td>\n",
       "      <td>3</td>\n",
       "      <td>Odisha</td>\n",
       "      <td>5</td>\n",
       "      <td>YYYY</td>\n",
       "    </tr>\n",
       "    <tr>\n",
       "      <th>Male</th>\n",
       "      <td>2</td>\n",
       "      <td>4</td>\n",
       "      <td>Odisha</td>\n",
       "      <td>5</td>\n",
       "      <td>XXXY</td>\n",
       "    </tr>\n",
       "    <tr>\n",
       "      <th rowspan=\"2\" valign=\"top\">50</th>\n",
       "      <th>Female</th>\n",
       "      <td>2</td>\n",
       "      <td>3</td>\n",
       "      <td>Odisha</td>\n",
       "      <td>3</td>\n",
       "      <td>XXXX</td>\n",
       "    </tr>\n",
       "    <tr>\n",
       "      <th>Male</th>\n",
       "      <td>2</td>\n",
       "      <td>3</td>\n",
       "      <td>Odisha</td>\n",
       "      <td>3</td>\n",
       "      <td>XXYY</td>\n",
       "    </tr>\n",
       "    <tr>\n",
       "      <th>54</th>\n",
       "      <th>Male</th>\n",
       "      <td>2</td>\n",
       "      <td>3</td>\n",
       "      <td>West bengal</td>\n",
       "      <td>4</td>\n",
       "      <td>XXXY</td>\n",
       "    </tr>\n",
       "    <tr>\n",
       "      <th>55</th>\n",
       "      <th>Male</th>\n",
       "      <td>2</td>\n",
       "      <td>4</td>\n",
       "      <td>Odisha</td>\n",
       "      <td>5</td>\n",
       "      <td>XYYY</td>\n",
       "    </tr>\n",
       "  </tbody>\n",
       "</table>\n",
       "</div>"
      ],
      "text/plain": [
       "            credit  Beauty        state  Rating  Name\n",
       "Age Gen                                              \n",
       "18  Male         1       4       Sikkim       1  XXXX\n",
       "20  Male         2       4      Odisha        3  XXYX\n",
       "22  Male         2       3       Odisha       5  XXYX\n",
       "23  Female       1       5       Odisha       2  XYYY\n",
       "25  Male         2       3       Odisha       3  XYXX\n",
       "27  Female       1       3       Odisha       4  XXYX\n",
       "    Male         2       4      Odisha        5  YXYX\n",
       "28  Female       2       4      Odisha        5  YXYX\n",
       "    Male         2       5       Odisha       5  YXXX\n",
       "30  Female       2       5       Odisha       5  XXYY\n",
       "    Male         2       4       Odisha       5  XXXX\n",
       "32  Female       2       4      Odisha        4  YYXX\n",
       "    Male         2       2        Bihar       3  XYXX\n",
       "33  Male         2       3       Orissa       5  XXYY\n",
       "34  Male         2       4      Odisha        3  XYYY\n",
       "35  Female       2       4       Odisha       5  XYYX\n",
       "    Male         2       5   Jharkhand        3  XYYX\n",
       "36  Female       2       5       Orissa       5  YYYY\n",
       "    Male         2       5       Odisha       4  YXYX\n",
       "38  Female       2       4       Odisha       5  XYYY\n",
       "    Male         1       2       Odisha       3  XYYX\n",
       "40  Female       2       4       Odisha       5  XXYY\n",
       "    Male         1       3       Odisha       5  XXXX\n",
       "42  Male         1       3      Odisha        5  XYXX\n",
       "44  Male         1       5      Gujurat       4  YYYY\n",
       "45  Female       2       3       Odisha       5  YYYY\n",
       "    Male         2       4      Odisha        5  XXXY\n",
       "50  Female       2       3      Odisha        3  XXXX\n",
       "    Male         2       3      Odisha        3  XXYY\n",
       "54  Male         2       3  West bengal       4  XXXY\n",
       "55  Male         2       4       Odisha       5  XYYY"
      ]
     },
     "execution_count": 58,
     "metadata": {},
     "output_type": "execute_result"
    }
   ],
   "source": [
    "gkk=df.groupby(['Age','Gen'])\n",
    "gkk.first()"
   ]
  },
  {
   "cell_type": "code",
   "execution_count": null,
   "id": "cc933611",
   "metadata": {},
   "outputs": [],
   "source": []
  }
 ],
 "metadata": {
  "kernelspec": {
   "display_name": "Python 3 (ipykernel)",
   "language": "python",
   "name": "python3"
  },
  "language_info": {
   "codemirror_mode": {
    "name": "ipython",
    "version": 3
   },
   "file_extension": ".py",
   "mimetype": "text/x-python",
   "name": "python",
   "nbconvert_exporter": "python",
   "pygments_lexer": "ipython3",
   "version": "3.9.7"
  }
 },
 "nbformat": 4,
 "nbformat_minor": 5
}
